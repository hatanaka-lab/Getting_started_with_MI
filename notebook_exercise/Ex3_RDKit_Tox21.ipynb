{
  "nbformat": 4,
  "nbformat_minor": 0,
  "metadata": {
    "colab": {
      "provenance": []
    },
    "kernelspec": {
      "name": "python3",
      "display_name": "Python 3"
    },
    "language_info": {
      "name": "python"
    }
  },
  "cells": [
    {
      "cell_type": "markdown",
      "source": [
        "# **Step 0：ライブラリの読み込み**"
      ],
      "metadata": {
        "id": "i6LipgwzT6JA"
      }
    },
    {
      "cell_type": "code",
      "source": [
        "!pip install rdkit"
      ],
      "metadata": {
        "id": "9VisUoP3T6v_"
      },
      "execution_count": null,
      "outputs": []
    },
    {
      "cell_type": "code",
      "source": [
        "import rdkit\n",
        "from rdkit import rdBase, Chem, DataStructs\n",
        "from rdkit.Chem.Draw import IPythonConsole\n",
        "from rdkit.Chem import Descriptors, PandasTools\n",
        "from rdkit.ML.Descriptors import MoleculeDescriptors\n",
        "from rdkit.ML.Descriptors.MoleculeDescriptors import MolecularDescriptorCalculator\n",
        "from rdkit.Chem import AllChem, Draw\n",
        "from copy import deepcopy\n",
        "import numpy as np\n",
        "import pandas as pd\n",
        "from numpy import vectorize as vec\n",
        "import matplotlib\n",
        "import matplotlib.pyplot as plt\n",
        "import seaborn as sns\n",
        "from tqdm import tqdm\n",
        "import time\n",
        "print(rdBase.rdkitVersion)"
      ],
      "metadata": {
        "id": "mV8fy9D7UDfs"
      },
      "execution_count": null,
      "outputs": []
    },
    {
      "cell_type": "markdown",
      "source": [
        "# **Step 1：SDFファイルの読み込み**"
      ],
      "metadata": {
        "id": "1mHt2BR0VptU"
      }
    },
    {
      "cell_type": "code",
      "source": [
        "# MDLフォーマットのファイル(nr-ar.sdf)を読み込む\n",
        "# 読み込めない化合物もある（本当は事前に確認して削っておくべき）\n",
        "# nr-ar.sdfはこちらから取得できます。 https://github.com/hatanaka-lab/Getting_started_with_MI/blob/main/data/nr-ar.sdf\n",
        "# データの元ネタはこちら：https://tripod.nih.gov/tox21/challenge/\n",
        "df_mols=PandasTools.LoadSDF('nr-ar.sdf',smilesName='SMILES',molColName='Mol_Object',includeFingerprints=True)"
      ],
      "metadata": {
        "id": "oB_ylEPWUgEj"
      },
      "execution_count": null,
      "outputs": []
    },
    {
      "cell_type": "code",
      "source": [
        "#molsの中身を確認①項目\n",
        "df_mols.columns"
      ],
      "metadata": {
        "id": "7qeqNFgpU_EK"
      },
      "execution_count": null,
      "outputs": []
    },
    {
      "cell_type": "code",
      "source": [
        "#molsの中身を確認②データ数\n",
        "df_mols.shape"
      ],
      "metadata": {
        "id": "-tAm2At-VBel"
      },
      "execution_count": null,
      "outputs": []
    },
    {
      "cell_type": "code",
      "source": [
        "#molsの中身を確認③active/inactiveの化合物数\n",
        "print(\"Num of active mols: \", list(df_mols.Active).count('1'))\n",
        "print(\"Num of inactive mols: \", list(df_mols.Active).count('0'))"
      ],
      "metadata": {
        "id": "dhFzmW7qVHA4"
      },
      "execution_count": null,
      "outputs": []
    },
    {
      "cell_type": "code",
      "source": [
        "#molsの中身を確認④\n",
        "df_mols"
      ],
      "metadata": {
        "id": "OFrARVukVIvF"
      },
      "execution_count": null,
      "outputs": []
    },
    {
      "cell_type": "markdown",
      "source": [
        "# **Step2：RDKitを用いた特徴量(記述子)への変換**"
      ],
      "metadata": {
        "id": "D6H4pwkKVgxo"
      }
    },
    {
      "cell_type": "code",
      "source": [
        "#rdkitの機能で算出可能な記述子の一覧\n",
        "names = [x[0] for x in Descriptors._descList]\n",
        "print(\"Number of descriptors in the rdkit: \", len(names))\n",
        "np.array(names)"
      ],
      "metadata": {
        "id": "N1APJpurVT0Z"
      },
      "execution_count": null,
      "outputs": []
    },
    {
      "cell_type": "code",
      "source": [
        "# 本当は上記の記述子を全部使いたいけれど…\n",
        "# ここでは練習のため、一部を(適当に)pick up\n",
        "df_mols_feat = deepcopy(df_mols)\n",
        "for desc in ['TPSA','MaxPartialCharge','SlogP_VSA1','EState_VSA1','SMR_VSA1','MolLogP','MolMR','BalabanJ','HallKierAlpha','Kappa1','Kappa2','Kappa3','RingCount','NumHAcceptors','NumHDonors']:\n",
        "    exec(\"df_mols_feat[desc]=vec(Descriptors.{})(df_mols_feat['Mol_Object'])\".format(desc))\n",
        "print(\"shape of data : {}\".format(df_mols_feat.shape))\n",
        "df_mols_feat"
      ],
      "metadata": {
        "id": "7PQCiytHV5nq"
      },
      "execution_count": null,
      "outputs": []
    },
    {
      "cell_type": "markdown",
      "source": [
        "# **Step3：欠損データの確認**"
      ],
      "metadata": {
        "id": "9LIoLTyd4nam"
      }
    },
    {
      "cell_type": "code",
      "source": [
        "# 特徴量の中に欠損データがある場合は\"True\"と表示される → 説明変数から外す\n",
        "print(df_mols_feat.isnull().any())"
      ],
      "metadata": {
        "id": "lBUm4CzqWHLY"
      },
      "execution_count": null,
      "outputs": []
    },
    {
      "cell_type": "code",
      "source": [
        "# 欠損データを含む特徴量(MaxPartialCharge)や、数値以外のデータを含む列(Formula, FW,…,Molecule)、目的変数(Active)を外して、再度説明変数を定義\n",
        "df_mols_feat=df_mols_feat.drop([\"MaxPartialCharge\", \"Formula\", \"FW\", \"DSSTox_CID\", \"ID\", \"SMILES\", \"Mol_Object\", \"Active\"], axis=1)"
      ],
      "metadata": {
        "id": "aIw3nl9xWRcd"
      },
      "execution_count": 16,
      "outputs": []
    },
    {
      "cell_type": "code",
      "source": [
        "# 再度特徴量に欠損データがないか確認（確認方法①）\n",
        "print(df_mols_feat.isnull().any())"
      ],
      "metadata": {
        "id": "AfwUBuYfWiKM"
      },
      "execution_count": null,
      "outputs": []
    },
    {
      "cell_type": "code",
      "source": [
        "# 再度特徴量に欠損データがないか確認（確認方法②）\n",
        "print(df_mols_feat.isnull().sum())"
      ],
      "metadata": {
        "id": "cD2h9CNvWk5q"
      },
      "execution_count": null,
      "outputs": []
    },
    {
      "cell_type": "code",
      "source": [
        "# 最終的に残った特徴量を表示\n",
        "df_mols_feat"
      ],
      "metadata": {
        "id": "5TconXs0WnqJ"
      },
      "execution_count": null,
      "outputs": []
    },
    {
      "cell_type": "code",
      "source": [
        "#　説明変数を標準化する\n",
        "#　標準化された値 = (元の値－平均値)/標準偏差\n",
        "#  ここではRandom Forest Classiferを用いるので標準化しなくても良い\n",
        "# from sklearn.preprocessing import StandardScaler\n",
        "# scaler = StandardScaler()\n",
        "# X_scaled = scaler.fit_transform(df_mols_feat)"
      ],
      "metadata": {
        "id": "i7H0MRMEHGxA"
      },
      "execution_count": 20,
      "outputs": []
    },
    {
      "cell_type": "markdown",
      "source": [
        "# **Step4：データを観察**"
      ],
      "metadata": {
        "id": "OxT5nZn16E38"
      }
    },
    {
      "cell_type": "code",
      "source": [
        "# データの分布を観察する：その1（説明変数間の散布図）\n",
        "def set_color(L):\n",
        "    O = []\n",
        "    for l in L:\n",
        "        if l == '1':\n",
        "            O.append(\"red\")\n",
        "        else:\n",
        "            O.append(\"palegreen\")\n",
        "    return O\n",
        "\n",
        "axes = pd.plotting.scatter_matrix(df_mols_feat, figsize=(12,12), hist_kwds={'bins':10},\n",
        "                           marker='.', s=15, alpha=.5, c=set_color(df_mols.Active))\n",
        "for ax in axes.flatten():\n",
        "    ax.xaxis.label.set_rotation(90)\n",
        "    ax.yaxis.label.set_rotation(0)\n",
        "    ax.yaxis.label.set_ha('right')\n",
        "plt.show()"
      ],
      "metadata": {
        "id": "a31v9jdUWpxJ"
      },
      "execution_count": null,
      "outputs": []
    },
    {
      "cell_type": "code",
      "source": [
        "# データの分布を観察する：その2（相関行列）\n",
        "correlation_coefficients = df_mols_feat.corr()  # 相関行列の計算\n",
        "# 相関行列のヒートマップ (相関係数の値あり)\n",
        "plt.rcParams['font.size'] = 9\n",
        "plt.figure(figsize=(12, 10))  # この段階で画像のサイズを指定する\n",
        "sns.heatmap(correlation_coefficients, vmax=1, vmin=-1, cmap='seismic', square=True, annot=True, xticklabels=1, yticklabels=1)\n",
        "plt.xlim([0, correlation_coefficients.shape[0]])\n",
        "plt.show()"
      ],
      "metadata": {
        "id": "mS8jC--lxS9G"
      },
      "execution_count": null,
      "outputs": []
    },
    {
      "cell_type": "markdown",
      "source": [
        "# **Step5：データを分割（交差検証用）**"
      ],
      "metadata": {
        "id": "iTIHTr4w4TgT"
      }
    },
    {
      "cell_type": "code",
      "source": [
        "# データを訓練用・テスト用に分割\n",
        "from sklearn.model_selection import train_test_split\n",
        "X_train, X_test, y_train, y_test = train_test_split(df_mols_feat, df_mols.Active, train_size=0.75, test_size=0.25, random_state=10)"
      ],
      "metadata": {
        "id": "J10YKgCXxS-7"
      },
      "execution_count": 23,
      "outputs": []
    },
    {
      "cell_type": "code",
      "source": [
        "# 分割したデータの個数を確認\n",
        "print(\"Training Data -------------\")\n",
        "print(\" Number of   active molecules:  \", list(y_train).count('1'))\n",
        "print(\" Number of inactive molecules:  \", list(y_train).count('0'))\n",
        "print(\"Test Data -----------------\")\n",
        "print(\" Number of   active molecules:  \", list(y_test).count('1'))\n",
        "print(\" Number of inactive molecules:  \", list(y_test).count('0'))"
      ],
      "metadata": {
        "id": "q4jmIO3LxTA_"
      },
      "execution_count": null,
      "outputs": []
    },
    {
      "cell_type": "markdown",
      "source": [
        "## **Step6：ハイパーパラメタの決定**"
      ],
      "metadata": {
        "id": "NDoWZT-e7UVm"
      }
    },
    {
      "cell_type": "code",
      "source": [
        "# Random Forest Classifier(RFC)用にハイパーパラメタを決める\n",
        "# RFCの各パラメータの意味はこちらを参照\n",
        "# https://scikit-learn.org/stable/modules/generated/sklearn.ensemble.RandomForestClassifier.html\n",
        "from sklearn.ensemble import RandomForestClassifier\n",
        "from sklearn.model_selection import cross_val_score\n",
        "list_param = []\n",
        "list_score = []\n",
        "for ne in range(50,250,50):\n",
        "  for nd in [5, 10, 25, 50, 100]:\n",
        "    model = RandomForestClassifier(n_estimators=ne, max_depth=nd, random_state=111)\n",
        "    cv5_score = cross_val_score(model, X_train, y_train, cv=5, scoring='accuracy').mean()  #訓練用データ(train)を用いて5-fold CV\n",
        "    print(\"num_trees=\",ne,\", max_depth=\",nd,\" , Accuracy=\",cv5_score)\n",
        "    list_param.append([ne,nd])\n",
        "    list_score.append(cv5_score)\n",
        "max_index = np.argmax(list_score)\n",
        "print(\"\")\n",
        "print(\"-----Best parameters-----\")\n",
        "print(\"num_trees=\",list_param[max_index][0], \"max_depth=\",list_param[max_index][1],\"Accuracy=\",list_score[max_index])"
      ],
      "metadata": {
        "id": "JuLkfNkV7TS-"
      },
      "execution_count": null,
      "outputs": []
    },
    {
      "cell_type": "markdown",
      "source": [
        "# **Step7：機械学習実行**"
      ],
      "metadata": {
        "id": "HStA4ANW8Cl6"
      }
    },
    {
      "cell_type": "code",
      "source": [
        "from sklearn.ensemble import RandomForestClassifier\n",
        "model = RandomForestClassifier(n_estimators=list_param[max_index][0], max_depth=list_param[max_index][1], random_state=111)\n",
        "model.fit(X_train, y_train)\n",
        "print(\"Accuracy on training set: {:.3f}\".format(model.score(X_train, y_train)))\n",
        "print(\"Accuracy on test set:     {:.3f}\".format(model.score(X_test,  y_test)))"
      ],
      "metadata": {
        "id": "o3FQifa37_ev"
      },
      "execution_count": null,
      "outputs": []
    },
    {
      "cell_type": "code",
      "source": [
        "from sklearn.metrics import auc, accuracy_score, f1_score, confusion_matrix, log_loss, roc_auc_score\n",
        "plt.figure(figsize=(3,2))\n",
        "cm = confusion_matrix(y_test, model.predict(X_test))\n",
        "ax = plt.subplot()\n",
        "sns.set()\n",
        "sns.heatmap(cm, annot=True, ax=ax, cmap=\"Blues\", fmt=\"g\");\n",
        "\n",
        "# Labels, title and ticks\n",
        "label_font = {'size':'14'}  # Adjust to fit\n",
        "ax.set_xlabel('Predict', fontdict=label_font);\n",
        "ax.set_ylabel('True',  fontdict=label_font);\n",
        "\n",
        "title_font = {'size':'14'}  # Adjust to fit\n",
        "ax.set_title('Confusion Matrix', fontdict=title_font);\n",
        "\n",
        "#ax.tick_params(axis='both', which='major', labelsize=10)  # Adjust to fit"
      ],
      "metadata": {
        "id": "88I6wr1yCaP5"
      },
      "execution_count": null,
      "outputs": []
    },
    {
      "cell_type": "markdown",
      "source": [
        "(Remind： Active = 1, Inactive = 0)"
      ],
      "metadata": {
        "id": "R8LVpO6-eJUu"
      }
    },
    {
      "cell_type": "code",
      "source": [
        "# Random Forest回帰モデルの特徴量重要度を解析\n",
        "# まずは表形式（DataFrame型）で出力\n",
        "model_importances = pd.DataFrame({\"importance\": model.feature_importances_}, index=X_train.columns)\n",
        "# 重要度ごとの降順にして表示\n",
        "model_importances_sorted = model_importances.sort_values(by=\"importance\", ascending=False)\n",
        "model_importances_sorted"
      ],
      "metadata": {
        "id": "PUGk5vS48uzZ"
      },
      "execution_count": null,
      "outputs": []
    },
    {
      "cell_type": "code",
      "source": [
        "# 棒グラフで重要度を図示\n",
        "fig, ax = plt.subplots(figsize=(6,4))\n",
        "y_pos = np.arange(model_importances_sorted.shape[0])\n",
        "list_importances = list(model_importances_sorted[\"importance\"])\n",
        "ax.barh(y_pos, list_importances, align='center', alpha=0.5, ecolor='black', capsize=10)\n",
        "ax.set_yticks(y_pos)\n",
        "ax.set_yticklabels(model_importances_sorted.index)\n",
        "label_imp_font = {'size':'11'}\n",
        "title_imp_font = {'size':'12'}\n",
        "ax.set_xlabel('Importance', fontdict=label_imp_font)\n",
        "ax.tick_params(axis='both', which='major', labelsize=11)\n",
        "ax.yaxis.grid(True)\n",
        "plt.tight_layout()\n",
        "plt.show()"
      ],
      "metadata": {
        "id": "-DgLQx5H86J0"
      },
      "execution_count": null,
      "outputs": []
    },
    {
      "cell_type": "markdown",
      "source": [
        "# **補足：分子情報がSMILESで与えられている場合**"
      ],
      "metadata": {
        "id": "IC94rPma8lne"
      }
    },
    {
      "cell_type": "markdown",
      "source": [
        "分子の通し番号(ID), SMILES, 物性値(DATA)をまとめたcsvファイルを読み込みます。\n",
        "\n",
        "ファイルはこちら：https://github.com/hatanaka-lab/Getting_started_with_MI/blob/main/data/smiles_data.csv\n",
        "\n",
        "上記のSDFファイル由来のデータと混ざらないように、オブジェクト名をmols_2にしました。分子数が多いので、計算に時間がかかります。csvファイルの行数を適当に減らしてテスト計算してみても良いです。"
      ],
      "metadata": {
        "id": "b2lGgn7M9lQb"
      }
    },
    {
      "cell_type": "code",
      "source": [
        "# csvファイルの中身をpandasのdata frameに格納\n",
        "df_mols2 = pd.read_csv(\"smiles_data.csv\")\n",
        "df_mols2.head(4)"
      ],
      "metadata": {
        "id": "ahvbg4GvxTC1"
      },
      "execution_count": null,
      "outputs": []
    },
    {
      "cell_type": "markdown",
      "source": [
        "物性値が連続値であるため、回帰モデルを構築することも可能ですが、\n",
        "\n",
        "ここでは、DATA>6をActive、DATA<=6をInactiveとする二値分類問題として扱います。"
      ],
      "metadata": {
        "id": "gC7LjmF_-l7U"
      }
    },
    {
      "cell_type": "code",
      "source": [
        "# mol_2に'Active'という列を追加し、Active/Inactiveの情報を書き込む\n",
        "# やり方①：Active/Inactiveを1/0として書き込む\n",
        "df_mols2['Active'] = [1 if mol > 6 else 0 for mol in df_mols2['DATA']]\n",
        "\n",
        "# やり方②：Active/InactiveをTrue/Falseとして書き込む\n",
        "# df_mols2['Active'] = df_mols2['DATA'] > 6\n",
        "\n",
        "df_mols2.head(3)"
      ],
      "metadata": {
        "id": "Fzt8iF56xXbE"
      },
      "execution_count": null,
      "outputs": []
    },
    {
      "cell_type": "code",
      "source": [
        "Chem.PandasTools.AddMoleculeColumnToFrame(df_mols2, smilesCol='SMILES', molCol='Mol_Object')"
      ],
      "metadata": {
        "id": "lQ8LG9FKxg4i"
      },
      "execution_count": 32,
      "outputs": []
    },
    {
      "cell_type": "code",
      "source": [
        "print(\"Number of   active molecules:  \", list(df_mols2.Active).count(1))  #Active\n",
        "print(\"Number of inactive molecules:  \", list(df_mols2.Active).count(0))  #Inactive"
      ],
      "metadata": {
        "id": "cuYWMPx7xlYf"
      },
      "execution_count": null,
      "outputs": []
    },
    {
      "cell_type": "code",
      "source": [
        "# df_mols2の中身を確認\n",
        "df_mols2"
      ],
      "metadata": {
        "id": "O6yI-6g9xmV8"
      },
      "execution_count": null,
      "outputs": []
    },
    {
      "cell_type": "code",
      "source": [
        "#あとは上記と同じようにRdkitを使って記述子に変換\n",
        "#今回は全部使用する\n",
        "# molオブジェクトから特徴量への変換を行う計算モジュール(MoleculeDescriptors.MolecularDescriptorCalculator())を用意\n",
        "target_descriptors = []\n",
        "for desc in Descriptors.descList:\n",
        "    target_descriptors.append(desc[0])\n",
        "descriptor_calculator = MoleculeDescriptors.MolecularDescriptorCalculator(target_descriptors)\n",
        "\n",
        "# 関数を定義\n",
        "def mol2descriptors(mol):\n",
        "    return descriptor_calculator.CalcDescriptors(mol, ignore_3D=False)"
      ],
      "metadata": {
        "id": "_7-IfpyCxoSx"
      },
      "execution_count": 35,
      "outputs": []
    },
    {
      "cell_type": "code",
      "source": [
        "list_features = []\n",
        "for mol in tqdm(df_mols2['Mol_Object']):\n",
        "# for mol in df_mols2['Mol_Object']: でもOK。tqdm()は計算の進捗を確認するためにつけただけ\n",
        "    list_features.append(mol2descriptors(mol))\n",
        "df_mols2_feat = pd.DataFrame(list_features, columns=[col for col in target_descriptors])"
      ],
      "metadata": {
        "id": "rHSU0Aidx_0M"
      },
      "execution_count": null,
      "outputs": []
    },
    {
      "cell_type": "code",
      "source": [
        "# 欠損値がある場合は特徴量から除外する。\n",
        "# 欠損値あり＝Trueを見つけたらprintする。\n",
        "df_isnull = df_mols2_feat.isnull().any()\n",
        "df_isnull[df_isnull > 0]"
      ],
      "metadata": {
        "id": "StRIG21_Bk7u"
      },
      "execution_count": null,
      "outputs": []
    },
    {
      "cell_type": "code",
      "source": [
        "# 欠損値のある特徴量をlist形式で取り出す\n",
        "list(df_isnull[df_isnull > 0].index)"
      ],
      "metadata": {
        "id": "uayHXGirsCsY"
      },
      "execution_count": null,
      "outputs": []
    },
    {
      "cell_type": "code",
      "source": [
        "# 欠損データを含む特徴量を外して、再度説明変数を定義\n",
        "df_mols2_feat=df_mols2_feat.drop(list(df_isnull[df_isnull > 0].index), axis=1)"
      ],
      "metadata": {
        "id": "-s_GDhJ7sc_x"
      },
      "execution_count": 39,
      "outputs": []
    },
    {
      "cell_type": "code",
      "source": [
        "## 単一の値しか持たない特徴量がある場合も除外する。\n",
        "list_1unique_value = []\n",
        "for col in df_mols2_feat.columns:\n",
        "    # ユニークな値の個数をカウント\n",
        "    n_unique_value = len(np.unique(df_mols2_feat[col].values))\n",
        "    if n_unique_value <= 1:\n",
        "        list_1unique_value.append(col)\n",
        "list_1unique_value"
      ],
      "metadata": {
        "id": "GJQhlPW3CM2J"
      },
      "execution_count": null,
      "outputs": []
    },
    {
      "cell_type": "code",
      "source": [
        "df_mols2_feat=df_mols2_feat.drop(list_1unique_value, axis=1)"
      ],
      "metadata": {
        "id": "_Jh5bw2XsRwX"
      },
      "execution_count": 41,
      "outputs": []
    },
    {
      "cell_type": "code",
      "source": [
        "from sklearn.model_selection import train_test_split\n",
        "X_train, X_test, y_train, y_test = train_test_split(df_mols2_feat, df_mols2.Active, test_size=0.2, random_state=123)"
      ],
      "metadata": {
        "id": "Z15D5iRltPzM"
      },
      "execution_count": 42,
      "outputs": []
    },
    {
      "cell_type": "code",
      "source": [
        "# 機械学習 (ハイパーパラメタ調整は省略)\n",
        "from sklearn.ensemble import RandomForestClassifier\n",
        "model = RandomForestClassifier(n_estimators=100, max_depth=15, random_state=111)\n",
        "model.fit(X_train, y_train)\n",
        "print(\"Accuracy on training set: {:.3f}\".format(model.score(X_train, y_train)))\n",
        "print(\"Accuracy on test set:     {:.3f}\".format(model.score(X_test,  y_test)))"
      ],
      "metadata": {
        "id": "37EYqddUFllR"
      },
      "execution_count": null,
      "outputs": []
    },
    {
      "cell_type": "markdown",
      "source": [
        "# **補足２：Morgan fingerprintを特徴量に用いる場合**"
      ],
      "metadata": {
        "id": "JYpC-t9Dhxhf"
      }
    },
    {
      "cell_type": "markdown",
      "source": [
        "ECFP (extended-connnectivity fingerprint)とも言う。\n",
        "\n",
        "各原子に対して識別子と呼ばれる整数値を割り当て、その原子のまわりの情報や隣接する原子の識別子を用いて、繰り返し更新することで、分子グラフの情報を数値化したもの。"
      ],
      "metadata": {
        "id": "R3H-Z3iUiIGI"
      }
    },
    {
      "cell_type": "code",
      "source": [
        "from rdkit import Chem\n",
        "from rdkit.Chem.rdMolDescriptors import GetMorganFingerprintAsBitVect"
      ],
      "metadata": {
        "id": "64Gs7oRavWqc"
      },
      "execution_count": 44,
      "outputs": []
    },
    {
      "cell_type": "code",
      "source": [
        "# 練習のため、一分子のMorgan fingerprintを表示してみる。\n",
        "mol_test = Chem.MolFromSmiles('CC1=CC(=O)C=CC1=O')\n",
        "fp = GetMorganFingerprintAsBitVect(mol_test, radius=2, nBits=2048, useFeatures=True)\n",
        "import torch\n",
        "print(torch.tensor(fp))  # Morgan fingerprint\n",
        "print(torch.tensor(fp.GetOnBits()))  # 非ゼロ成分の番号を表示"
      ],
      "metadata": {
        "id": "O2gK3WnEx0fU"
      },
      "execution_count": null,
      "outputs": []
    },
    {
      "cell_type": "code",
      "source": [
        "# smiles_data.csvの分子(df_mols2に格納済み)のMorgan fingerprintを作成\n",
        "fps = []\n",
        "for mol in df_mols2['Mol_Object']:\n",
        "    fp = AllChem.GetMorganFingerprintAsBitVect(mol, radius=2, nBits=2048, useFeatures=True)\n",
        "    arr = np.zeros((1,))\n",
        "    DataStructs.ConvertToNumpyArray(fp, arr)\n",
        "    fps.append(arr)\n",
        "fps = np.array(fps)\n",
        "fps"
      ],
      "metadata": {
        "id": "PBN0liJO0fBx"
      },
      "execution_count": null,
      "outputs": []
    },
    {
      "cell_type": "code",
      "source": [
        "from sklearn.model_selection import train_test_split\n",
        "X_train, X_test, y_train, y_test = train_test_split(fps, df_mols2.Active, test_size=0.2, random_state=123)"
      ],
      "metadata": {
        "id": "7Dl-h-1zu4JY"
      },
      "execution_count": 47,
      "outputs": []
    },
    {
      "cell_type": "code",
      "source": [
        "# 機械学習 (ハイパーパラメタ調整は省略)\n",
        "from sklearn.ensemble import RandomForestClassifier\n",
        "model = RandomForestClassifier(n_estimators=100, max_depth=15, random_state=111)\n",
        "model.fit(X_train, y_train)\n",
        "print(\"Accuracy on training set: {:.3f}\".format(model.score(X_train, y_train)))\n",
        "print(\"Accuracy on test set:     {:.3f}\".format(model.score(X_test,  y_test)))"
      ],
      "metadata": {
        "id": "N3Ic5dcxu9VP"
      },
      "execution_count": null,
      "outputs": []
    },
    {
      "cell_type": "code",
      "source": [],
      "metadata": {
        "id": "f5wNaqFmxdg3"
      },
      "execution_count": 48,
      "outputs": []
    }
  ]
}