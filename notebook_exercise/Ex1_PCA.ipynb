{
  "nbformat": 4,
  "nbformat_minor": 0,
  "metadata": {
    "colab": {
      "provenance": [],
      "toc_visible": true
    },
    "kernelspec": {
      "name": "python3",
      "display_name": "Python 3"
    },
    "language_info": {
      "name": "python"
    }
  },
  "cells": [
    {
      "cell_type": "markdown",
      "source": [
        "# **17次元の変数で表されるデータを2次元で表現する（次元削減）**"
      ],
      "metadata": {
        "id": "sYMN1gWM7uzo"
      }
    },
    {
      "cell_type": "markdown",
      "source": [
        "TaSi<sub>17</sub>クラスターの構造異性体95種(EQ0～EQ94)に関するエネルギー(Energy)とTa-Si核間距離(R1～R17)のデータがcsvファイルにまとめられています。\n",
        "\n",
        "17次元の変数で表されるクラスター構造の情報を「主成分分析(PCA)」を用いて2次元に削減し、95個のデータを2次元平面にプロットしましょう。\n",
        "\n",
        "TaSi17.csvファイルはこちらから取得できます。\n",
        "https://github.com/hatanaka-lab/Getting_started_with_MI/blob/main/data/TaSi17.csv\n",
        "\n"
      ],
      "metadata": {
        "id": "Qd6-sP3L8R8n"
      }
    },
    {
      "cell_type": "code",
      "source": [
        "#必要そうなライブラリたちをインポート\n",
        "import numpy as np\n",
        "import pandas as pd\n",
        "import seaborn as sns\n",
        "import matplotlib.pyplot as plt"
      ],
      "metadata": {
        "id": "zJZEIM3E7vnd"
      },
      "execution_count": 1,
      "outputs": []
    },
    {
      "cell_type": "code",
      "source": [
        "#matplotlibで作成する図の中に日本語のフォントを利用する場合はこちらもインポート\n",
        "!pip install japanize-matplotlib\n",
        "import japanize_matplotlib"
      ],
      "metadata": {
        "id": "rq3Ho9bwUpCO"
      },
      "execution_count": null,
      "outputs": []
    },
    {
      "cell_type": "markdown",
      "source": [
        "# **STEP1：データの読み込み**"
      ],
      "metadata": {
        "id": "PH_219N__Y3u"
      }
    },
    {
      "cell_type": "markdown",
      "source": [
        "ファイルをアップロードする方法：\n",
        "\n",
        " ①Google Colab画面左側の『ファイル』ボタンをクリックし、ファイルをdrag-and-dropする。(推奨)\n",
        "\n",
        " ②下記コードを実行し、『ファイル選択』ボタンでファイルを指定する。"
      ],
      "metadata": {
        "id": "6kvU0O7G1JcA"
      }
    },
    {
      "cell_type": "code",
      "metadata": {
        "id": "-wnKnsi8P-R3"
      },
      "source": [
        "#ファイルのアップロード方法②を使う場合は、下記2行の#を削除すること。\n",
        "#from google.colab import files\n",
        "#files.upload()"
      ],
      "execution_count": 3,
      "outputs": []
    },
    {
      "cell_type": "code",
      "metadata": {
        "id": "-Gt0wnP2P_Db"
      },
      "source": [
        "#csvファイルの中身を「df」に代入\n",
        "## dfは\"data frame\"の略。\n",
        "## pythonでは、data frameとarrayの2種類をよく使うので、どちらか混乱しないように、data frameには『df』や『df_XXX』と名前を付ける癖をつけよう\n",
        "df = pd.read_csv('TaSi17.csv')\n",
        "\n",
        "# dfの中身を確認①\n",
        "# 各列の名前やﾃﾞｰﾀの個数（ぬけがないか等々）をcheck\n",
        "df.info()"
      ],
      "execution_count": null,
      "outputs": []
    },
    {
      "cell_type": "code",
      "source": [
        "#dfの中身を確認②\n",
        "# ﾃﾞｰﾀを上から2行だけ見てみる head(XX)のXXの数で表示する行数を指定\n",
        "df.head(2)"
      ],
      "metadata": {
        "id": "i1MO0Qs6_P_k"
      },
      "execution_count": null,
      "outputs": []
    },
    {
      "cell_type": "markdown",
      "source": [
        "# **STEP2：不要データの削除**"
      ],
      "metadata": {
        "id": "wd6_R7g6_fZ-"
      }
    },
    {
      "cell_type": "code",
      "source": [
        "# dfの中の『R1』～『R17』の列だけを説明変数(入力)に用いたい\n",
        "# つまり、『EQ_ID』と『Energy』の列を削除すれば良い\n",
        "# 列を削除したdfを別名のデータフレーム(df_dist)に代入する前に、正しくデータを削除できているか確認しよう\n",
        "df.drop(columns=['EQ_ID','Energy']).head(2)"
      ],
      "metadata": {
        "id": "3hjk2AQn7t-5"
      },
      "execution_count": null,
      "outputs": []
    },
    {
      "cell_type": "code",
      "metadata": {
        "id": "RitIxnQCvIff"
      },
      "source": [
        "#核間距離(『R1』～『R17』)のみを取り出して、\"df_dist\"というデータフレームに代入\n",
        "df_dist=df.drop(columns=['EQ_ID','Energy'])\n",
        "\n",
        "#df_distの中身を確認\n",
        "# ﾃﾞｰﾀを上から2行だけ見てみる\n",
        "df_dist.head(2)"
      ],
      "execution_count": null,
      "outputs": []
    },
    {
      "cell_type": "code",
      "source": [
        "#『EQ_ID』の列だけ削除したデータフレーム\"df_Target\"も定義する（STEP3のデータの観察用に）\n",
        "df_Target = df.drop(columns='EQ_ID')\n",
        "# 正しく指定できたか確認\n",
        "df_Target.head(2)"
      ],
      "metadata": {
        "id": "A9X-J9F05J9b"
      },
      "execution_count": null,
      "outputs": []
    },
    {
      "cell_type": "code",
      "source": [
        "##おまけ df.iloc[:,2:].head(2)  行・列の数を指定して削除することも可(2列目以降をすべて取り出すという意味)"
      ],
      "metadata": {
        "id": "R1zat4y677fD"
      },
      "execution_count": 19,
      "outputs": []
    },
    {
      "cell_type": "markdown",
      "source": [
        "# **STEP3：データの観察**"
      ],
      "metadata": {
        "id": "8sMOKPKe5Xhz"
      }
    },
    {
      "cell_type": "code",
      "metadata": {
        "id": "SMruXu9TPbAn"
      },
      "source": [
        "# データの分布を観察する：その1\n",
        "pd.plotting.scatter_matrix(df_Target, figsize=(20, 20), hist_kwds={'bins':15},\n",
        "                           marker=('o'), s=8, alpha=.5)\n",
        "plt.show()"
      ],
      "execution_count": null,
      "outputs": []
    },
    {
      "cell_type": "code",
      "metadata": {
        "id": "BbPOAQBxxN0V"
      },
      "source": [
        "# データの分布を観察する：その2（相関行列）\n",
        "correlation_coefficients = df_Target.corr()  # 相関行列の計算\n",
        "# 相関行列のヒートマップ (相関係数の値あり)\n",
        "plt.rcParams['font.size'] = 9\n",
        "plt.figure(figsize=(18, 12))  # この段階で画像のサイズを指定する\n",
        "sns.heatmap(correlation_coefficients, vmax=1, vmin=-1, cmap='seismic', square=True, annot=True, xticklabels=1, yticklabels=1)\n",
        "plt.xlim([0, correlation_coefficients.shape[0]])\n",
        "plt.show()"
      ],
      "execution_count": null,
      "outputs": []
    },
    {
      "cell_type": "markdown",
      "metadata": {
        "id": "CXajgJr1sOBi"
      },
      "source": [
        "# **STEP4：PCAによる次元圧縮**"
      ]
    },
    {
      "cell_type": "code",
      "metadata": {
        "id": "Ay9WMzRAtQK7"
      },
      "source": [
        "from sklearn.decomposition import PCA  # PCA用ライブラリをインポート\n",
        "# k次元に圧縮したい場合、n_components = k と指定する。\n",
        "pca = PCA(n_components=2)\n",
        "pca.fit(df_dist)"
      ],
      "execution_count": null,
      "outputs": []
    },
    {
      "cell_type": "code",
      "metadata": {
        "id": "YRsMwCIQ6mlu"
      },
      "source": [
        "# 寄与率（表現できる情報量の割合）を計算する\n",
        "contribution_ratios = pd.DataFrame(pca.explained_variance_ratio_)\n",
        "contribution_ratios.rename(index={0:'第1主成分',1:'第2主成分'}).rename(columns={0:'寄与率'})"
      ],
      "execution_count": null,
      "outputs": []
    },
    {
      "cell_type": "code",
      "metadata": {
        "id": "_JG-98kPzfxW"
      },
      "source": [
        "#ローディングベクトル(第n主成分に対する各説明変数の重み)を表示する\n",
        "#第1主成分は0.672×R17 + 0.667×R16 + 0.312×R15 +…  で表されると読み取れる\n",
        "loadings = pd.DataFrame(pca.components_.T, index=df_dist.columns)\n",
        "loadings.rename(columns={0:'第1主成分',1:'第2主成分'})"
      ],
      "execution_count": null,
      "outputs": []
    },
    {
      "cell_type": "markdown",
      "source": [
        "#**STEP5：データの散布図の描画**"
      ],
      "metadata": {
        "id": "Dz0IdfUO9U-d"
      }
    },
    {
      "cell_type": "markdown",
      "source": [
        "横軸を第1主成分軸、縦軸を第2主成分軸とする散布図を描く。"
      ],
      "metadata": {
        "id": "udJYuU7q93_a"
      }
    },
    {
      "cell_type": "code",
      "source": [
        "# 主成分得点(スコア)を計算\n",
        "# 各サンプルが各主成分軸上のどの座標に位置するかを表す値\n",
        "score = pd.DataFrame(pca.transform(df_dist), index=df_dist.index)"
      ],
      "metadata": {
        "id": "V_bK3dGe-LmV"
      },
      "execution_count": 23,
      "outputs": []
    },
    {
      "cell_type": "code",
      "source": [
        "plt.figure(figsize=(4,4))  #図のサイズを指定\n",
        "plt.scatter(score.iloc[:, 0], score.iloc[:, 1], c=\"orange\")  #各サンプルの横軸・縦軸を指定（色などの詳細も指定可）\n",
        "plt.title(\"PCAによる2次元マップ\", fontsize=14)   #タイトルを指定\n",
        "plt.xlabel('第1主成分', fontsize=12)       #横軸の詳細を指定\n",
        "plt.ylabel('第2主成分', fontsize=12)       #縦軸の詳細を指定\n",
        "plt.grid()      #()の中にFalseを書くと補助線を消せる\n",
        "plt.show()"
      ],
      "metadata": {
        "id": "I3Mgswk-ajDH"
      },
      "execution_count": null,
      "outputs": []
    },
    {
      "cell_type": "code",
      "metadata": {
        "id": "0Lrr6sru2KVz"
      },
      "source": [
        "# プロットしたデータにサンプル名を書き込む\n",
        "plt.figure(figsize=(6,6))\n",
        "plt.scatter(score.iloc[:,0], score.iloc[:,1],c='orange')\n",
        "plt.rcParams[\"font.size\"] = 8\n",
        "num = len(df_dist)\n",
        "for i in range(num):\n",
        "    plt.text(score.iloc[i,0], score.iloc[i,1], score.index[i], horizontalalignment=\"center\", verticalalignment=\"bottom\")\n",
        "plt.xlabel('第1主成分', fontsize=12)\n",
        "plt.ylabel('第2主成分', fontsize=12)\n",
        "plt.grid()\n",
        "plt.show()"
      ],
      "execution_count": null,
      "outputs": []
    },
    {
      "cell_type": "code",
      "metadata": {
        "id": "Wrp5JAhj2AVa"
      },
      "source": [
        "#『Energy』の値に応じて色分けする\n",
        "plt.figure(figsize=(5,4))\n",
        "plt.scatter(score.iloc[:, 0], score.iloc[:, 1], c=df['Energy'], cmap=plt.get_cmap('jet'))\n",
        "clb = plt.colorbar()\n",
        "clb.set_label('Energy', labelpad=-20, y=1.1, rotation=0, fontsize=10)\n",
        "plt.xlabel('第1主成分', fontsize=12)\n",
        "plt.ylabel('第2主成分', fontsize=12)\n",
        "plt.grid()\n",
        "plt.show()"
      ],
      "execution_count": null,
      "outputs": []
    }
  ]
}