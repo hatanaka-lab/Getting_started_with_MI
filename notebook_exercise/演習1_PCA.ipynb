{
  "nbformat": 4,
  "nbformat_minor": 0,
  "metadata": {
    "colab": {
      "provenance": [],
      "toc_visible": true
    },
    "kernelspec": {
      "name": "python3",
      "display_name": "Python 3"
    },
    "language_info": {
      "name": "python"
    }
  },
  "cells": [
    {
      "cell_type": "markdown",
      "source": [
        "# **17次元の変数で表されるデータを2次元で表現する（次元削減）**"
      ],
      "metadata": {
        "id": "sYMN1gWM7uzo"
      }
    },
    {
      "cell_type": "markdown",
      "source": [
        "TaSi<sub>17</sub>クラスターの構造異性体95種(EQ0～EQ94)に関するエネルギー(Energy)とTa-Si核間距離(R1～R17)のデータがcsvファイルにまとめられています。\n",
        "\n",
        "17次元の変数で表されるクラスター構造の情報を「主成分分析(PCA)」を用いて2次元に削減し、95個のデータを2次元平面にプロットしましょう。\n",
        "\n",
        "TaSi.csvファイルはこちらから取得できます。\n",
        "\n",
        "https://drive.google.com/file/d/1mE_pZ--mWrJ0mPoUaKY4uABO4NmxiJ7C/view?usp=sharing\n",
        "\n"
      ],
      "metadata": {
        "id": "Qd6-sP3L8R8n"
      }
    },
    {
      "cell_type": "code",
      "source": [
        "#必要そうなライブラリたちをインポート（コピペすべし）\n",
        "from sklearn.datasets import make_blobs\n",
        "import seaborn as sns\n",
        "import matplotlib.pyplot as plt\n",
        "import numpy as np\n",
        "import pandas as pd\n",
        "import csv"
      ],
      "metadata": {
        "id": "zJZEIM3E7vnd"
      },
      "execution_count": null,
      "outputs": []
    },
    {
      "cell_type": "markdown",
      "source": [
        "# **STEP1：データの読み込み**"
      ],
      "metadata": {
        "id": "PH_219N__Y3u"
      }
    },
    {
      "cell_type": "code",
      "metadata": {
        "id": "-wnKnsi8P-R3"
      },
      "source": [
        "#csvファイルをアップロード\n",
        "#左側の\"ファイル\"ボタンを押し、ファイルをdrag-and-dropしてもOK\n",
        "#from google.colab import files\n",
        "#files.upload()"
      ],
      "execution_count": null,
      "outputs": []
    },
    {
      "cell_type": "code",
      "metadata": {
        "id": "-Gt0wnP2P_Db"
      },
      "source": [
        "#csvファイルの中身を「df」に代入\n",
        "## dfは\"data frame\"の略。\n",
        "## pythonでは、data frameとarrayの2種類をよく使うので、どちらか混乱しないように、data frameにはdfと名前を付ける癖をつけるべし\n",
        "df=pd.read_csv('TaSi17.csv')\n",
        "\n",
        "# df_ML の中身を確認①\n",
        "# 各列の名前やﾃﾞｰﾀの個数（ぬけがないか等々）をcheck\n",
        "df.info()"
      ],
      "execution_count": null,
      "outputs": []
    },
    {
      "cell_type": "code",
      "source": [
        "#dfの中身を確認②\n",
        "# ﾃﾞｰﾀを上から4行だけ見てみる head(#) の#の数で表示する行数を指定\n",
        "df.head(4)"
      ],
      "metadata": {
        "id": "i1MO0Qs6_P_k"
      },
      "execution_count": null,
      "outputs": []
    },
    {
      "cell_type": "markdown",
      "source": [
        "# **STEP2：dfのデータを切り分け**"
      ],
      "metadata": {
        "id": "wd6_R7g6_fZ-"
      }
    },
    {
      "cell_type": "code",
      "metadata": {
        "id": "xfIwNpbzvuJd"
      },
      "source": [
        "# dfの中のR1～R17をXに代入したい\n",
        "# つまり、EQ_ID(構造の名前)とEnergyを削除すれば良い\n",
        "# 削除したdfを別名に代入する前に、正しくデータを削除できているか確認\n",
        "df.drop(columns=['EQ_ID','Energy']).head(2)\n",
        "# df.iloc[:,2:].head(2)  行・列の数を指定して削除することも可(2列目以降をすべて取り出すという意味)"
      ],
      "execution_count": null,
      "outputs": []
    },
    {
      "cell_type": "code",
      "metadata": {
        "id": "RitIxnQCvIff"
      },
      "source": [
        "#核間距離(R1～R17)のみを取り出して、\"df_dist\"というデータフレームに代入\n",
        "df_dist=df.drop(columns=['EQ_ID','Energy'])\n",
        "\n",
        "#df_distの中身を確認\n",
        "# ﾃﾞｰﾀを上から2行だけ見てみる\n",
        "df_dist.head(2)"
      ],
      "execution_count": null,
      "outputs": []
    },
    {
      "cell_type": "code",
      "metadata": {
        "id": "SMruXu9TPbAn"
      },
      "source": [
        "# データの分散具合を見てみる：その１\n",
        "df_AllData = df.drop(columns='EQ_ID')  #構造名以外の全データを取り出す\n",
        "\n",
        "pd.plotting.scatter_matrix(df_AllData, figsize=(20, 20), hist_kwds={'bins':15},\n",
        "                           marker=('o'), s=8, alpha=.5)\n",
        "plt.show()"
      ],
      "execution_count": null,
      "outputs": []
    },
    {
      "cell_type": "code",
      "metadata": {
        "id": "BbPOAQBxxN0V"
      },
      "source": [
        "# データの分散具合を見る：その２：相関行列\n",
        "correlation_coefficients = df_AllData.corr()  # 相関行列の計算\n",
        "# 相関行列のヒートマップ (相関係数の値あり)\n",
        "plt.rcParams['font.size'] = 9\n",
        "plt.figure(figsize=(18, 12))  # この段階で画像のサイズを指定する\n",
        "sns.heatmap(correlation_coefficients, vmax=1, vmin=-1, cmap='seismic', square=True, annot=True, xticklabels=1, yticklabels=1)\n",
        "plt.xlim([0, correlation_coefficients.shape[0]])\n",
        "plt.show()"
      ],
      "execution_count": null,
      "outputs": []
    },
    {
      "cell_type": "markdown",
      "metadata": {
        "id": "CXajgJr1sOBi"
      },
      "source": [
        "# **STEP3：PCAによる次元圧縮**"
      ]
    },
    {
      "cell_type": "code",
      "metadata": {
        "id": "Ay9WMzRAtQK7"
      },
      "source": [
        "from sklearn.decomposition import PCA  # PCA用ライブラリをインポート\n",
        "# k次元に圧縮したい場合、n_components = k と指定する。\n",
        "pca = PCA(n_components=2, random_state=10)\n",
        "pca.fit(df_dist)"
      ],
      "execution_count": null,
      "outputs": []
    },
    {
      "cell_type": "code",
      "metadata": {
        "id": "YRsMwCIQ6mlu"
      },
      "source": [
        "# 寄与率（表現できる情報量の割合）を計算する\n",
        "contribution_ratios = pd.DataFrame(pca.explained_variance_ratio_)\n",
        "contribution_ratios"
      ],
      "execution_count": null,
      "outputs": []
    },
    {
      "cell_type": "code",
      "metadata": {
        "id": "_JG-98kPzfxW"
      },
      "source": [
        "#ローディングベクトルを表示する\n",
        "#第一主成分は(0.672)×(R17) + (0.667)×(R16) + (0.312)×(R15) +…   で構成されていることが読み取れる\n",
        "loadings = pd.DataFrame(pca.components_.T, index=df_dist.columns)\n",
        "loadings"
      ],
      "execution_count": null,
      "outputs": []
    },
    {
      "cell_type": "code",
      "metadata": {
        "id": "1n9mRzPr0FgT"
      },
      "source": [
        "# score(主成分得点)は各サンプルが各主成分軸上のどの座標に位置するかを表す値\n",
        "score = pd.DataFrame(pca.transform(df_dist), index=df_dist.index)\n",
        "score"
      ],
      "execution_count": null,
      "outputs": []
    },
    {
      "cell_type": "code",
      "metadata": {
        "id": "Wrp5JAhj2AVa"
      },
      "source": [
        "# 第 1 主成分と第 2 主成分の散布図 (energy の値でサンプルに色付け)\n",
        "plt.scatter(score.iloc[:, 0], score.iloc[:, 1], c=df['Energy'], cmap=plt.get_cmap('jet'))\n",
        "clb = plt.colorbar()\n",
        "clb.set_label('Energy', labelpad=-20, y=1.1, rotation=0)\n",
        "#plt.xlim(-1.5, 2.5)\n",
        "#plt.ylim(-1.0, 1.0)\n",
        "plt.xlabel('comp_0')\n",
        "plt.ylabel('comp_1')\n",
        "plt.grid()\n",
        "plt.show()"
      ],
      "execution_count": null,
      "outputs": []
    },
    {
      "cell_type": "code",
      "metadata": {
        "id": "0Lrr6sru2KVz"
      },
      "source": [
        "num = len(df_dist)  # 可視化するデータ数(＝行数)を指定\n",
        "plt.scatter(score.iloc[:,0], score.iloc[:,1])\n",
        "plt.rcParams[\"font.size\"] = 8\n",
        "# プロットしたデータにサンプル名をラベリング\n",
        "for i in range(num):\n",
        "    plt.text(score.iloc[i,0], score.iloc[i,1], score.index[i], horizontalalignment=\"center\", verticalalignment=\"bottom\")\n",
        "#plt.xlim(-1.5, 2.5)\n",
        "#plt.ylim(-1.0, 1.0)\n",
        "plt.xlabel(\"comp_0\")\n",
        "plt.ylabel(\"comp_1\")\n",
        "plt.grid()\n",
        "plt.show()"
      ],
      "execution_count": null,
      "outputs": []
    },
    {
      "cell_type": "code",
      "metadata": {
        "id": "5toKQpc97SEH"
      },
      "source": [
        "#おまけ\n",
        "#せっかくなので、comp_0, comp_1を説明変数とした重回帰分析もしてみる（主成分回帰（Principal Component Regression, PCR）)\n",
        "from sklearn.linear_model import LinearRegression\n",
        "from sklearn.metrics import mean_squared_error\n",
        "model = LinearRegression()\n",
        "X = score.iloc[:,:]\n",
        "Y = df['Energy']\n",
        "model.fit(X, Y)\n",
        "\n",
        "# 決定係数\n",
        "print(\"R^2=\",model.score(X,Y))\n",
        "# 回帰係数\n",
        "print(model.coef_)"
      ],
      "execution_count": null,
      "outputs": []
    },
    {
      "cell_type": "code",
      "metadata": {
        "id": "wsSK4DPzCmaS"
      },
      "source": [],
      "execution_count": null,
      "outputs": []
    }
  ]
}