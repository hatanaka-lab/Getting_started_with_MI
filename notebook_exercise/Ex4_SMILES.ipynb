{
  "nbformat": 4,
  "nbformat_minor": 0,
  "metadata": {
    "colab": {
      "provenance": []
    },
    "kernelspec": {
      "name": "python3",
      "display_name": "Python 3"
    },
    "language_info": {
      "name": "python"
    }
  },
  "cells": [
    {
      "cell_type": "markdown",
      "source": [
        "## **誘導体のSMILESの作成**"
      ],
      "metadata": {
        "id": "LVtFmwJIySmA"
      }
    },
    {
      "cell_type": "code",
      "execution_count": null,
      "metadata": {
        "id": "rIY5FqPEuCGb"
      },
      "outputs": [],
      "source": [
        "!pip install rdkit\n",
        "import rdkit\n",
        "from rdkit import rdBase, Chem, DataStructs\n",
        "from rdkit.Chem.Draw import IPythonConsole\n",
        "from rdkit.Chem import Descriptors, PandasTools\n",
        "from rdkit.ML.Descriptors import MoleculeDescriptors\n",
        "from rdkit.ML.Descriptors.MoleculeDescriptors import MolecularDescriptorCalculator\n",
        "from rdkit.Chem import AllChem, Draw\n",
        "from copy import deepcopy\n",
        "import numpy as np\n",
        "import pandas as pd\n",
        "from numpy import vectorize as vec\n",
        "import matplotlib\n",
        "import matplotlib.pyplot as plt\n",
        "import seaborn as sns\n",
        "from tqdm import tqdm\n",
        "import time\n",
        "print(rdBase.rdkitVersion)"
      ]
    },
    {
      "cell_type": "code",
      "source": [
        "# 母骨格(C12=CC=CC=C1N=CC=C2)に対して(XX)の部分に置換基を挿入する\n",
        "list_initial_smiles = [\n",
        "    \"C12=C(XX)C=CC=C1N=CC=C2\",\n",
        "    \"C12=CC(XX)=CC=C1N=CC=C2\",\n",
        "    \"C12=CC=CC=C1N=C(XX)C=C2\",\n",
        "    \"C12=CC=CC=C1N=CC=C2(XX)\"\n",
        "]\n",
        "\n",
        "# 置換基のリスト\n",
        "list_substitute_substructure = [\n",
        "    \"F\",\n",
        "    \"N\",\n",
        "    \"OC\",\n",
        "    \"C(F)(F)F\",\n",
        "    \"C3=CC=CC=C3\"\n",
        "]"
      ],
      "metadata": {
        "id": "Thy-iYZzuaOC"
      },
      "execution_count": 3,
      "outputs": []
    },
    {
      "cell_type": "code",
      "source": [
        "# 最終的なSMILESを格納するリスト\n",
        "list_smiles = []\n",
        "\n",
        "# Xの部分を指定した部分構造で置換する\n",
        "for initial_smi in list_initial_smiles:\n",
        "    for subst in list_substitute_substructure:\n",
        "        add_smi = initial_smi.replace(\"XX\", subst)\n",
        "        #print(add_smi)\n",
        "        list_smiles.append(add_smi)\n",
        "\n",
        "# DataFrame型に変換する\n",
        "df_mols=pd.DataFrame({\"SMILES\": list_smiles})\n",
        "# 得られたSMILESに対するMOLオブジェクトも用意する\n",
        "Chem.PandasTools.AddMoleculeColumnToFrame(df_mols, smilesCol='SMILES', molCol='Mol_Object')"
      ],
      "metadata": {
        "id": "aPlw0k1SuN7c"
      },
      "execution_count": 13,
      "outputs": []
    },
    {
      "cell_type": "code",
      "source": [
        "df_mols"
      ],
      "metadata": {
        "id": "QxU8_xs7zFd9"
      },
      "execution_count": null,
      "outputs": []
    }
  ]
}
